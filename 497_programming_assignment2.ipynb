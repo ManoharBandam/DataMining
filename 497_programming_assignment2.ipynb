{
 "cells": [
  {
   "cell_type": "code",
   "execution_count": 5,
   "id": "f1b7eab9",
   "metadata": {},
   "outputs": [],
   "source": [
    "import sys"
   ]
  },
  {
   "cell_type": "code",
   "execution_count": null,
   "id": "eafb83d1",
   "metadata": {},
   "outputs": [],
   "source": [
    "!sudo -H {sys.executable} -m pip install pandas"
   ]
  },
  {
   "cell_type": "code",
   "execution_count": 6,
   "id": "58280d7b",
   "metadata": {},
   "outputs": [],
   "source": [
    "import pandas as pd"
   ]
  },
  {
   "cell_type": "code",
   "execution_count": 7,
   "id": "24aa1d46",
   "metadata": {
    "scrolled": true
   },
   "outputs": [],
   "source": [
    "df=pd.read_csv('bank_marketing.csv',sep=';')"
   ]
  },
  {
   "cell_type": "code",
   "execution_count": 8,
   "id": "6d404013",
   "metadata": {
    "scrolled": true
   },
   "outputs": [
    {
     "data": {
      "text/html": [
       "<div>\n",
       "<style scoped>\n",
       "    .dataframe tbody tr th:only-of-type {\n",
       "        vertical-align: middle;\n",
       "    }\n",
       "\n",
       "    .dataframe tbody tr th {\n",
       "        vertical-align: top;\n",
       "    }\n",
       "\n",
       "    .dataframe thead th {\n",
       "        text-align: right;\n",
       "    }\n",
       "</style>\n",
       "<table border=\"1\" class=\"dataframe\">\n",
       "  <thead>\n",
       "    <tr style=\"text-align: right;\">\n",
       "      <th></th>\n",
       "      <th>id</th>\n",
       "      <th>age</th>\n",
       "      <th>job</th>\n",
       "      <th>marital</th>\n",
       "      <th>education</th>\n",
       "      <th>default</th>\n",
       "      <th>housing</th>\n",
       "      <th>loan</th>\n",
       "      <th>contact</th>\n",
       "      <th>month</th>\n",
       "      <th>...</th>\n",
       "      <th>campaign</th>\n",
       "      <th>pdays</th>\n",
       "      <th>previous</th>\n",
       "      <th>poutcome</th>\n",
       "      <th>emp.var.rate</th>\n",
       "      <th>cons.price.idx</th>\n",
       "      <th>cons.conf.idx</th>\n",
       "      <th>euribor3m</th>\n",
       "      <th>nr.employed</th>\n",
       "      <th>subscription</th>\n",
       "    </tr>\n",
       "  </thead>\n",
       "  <tbody>\n",
       "    <tr>\n",
       "      <th>0</th>\n",
       "      <td>0</td>\n",
       "      <td>56</td>\n",
       "      <td>housemaid</td>\n",
       "      <td>married</td>\n",
       "      <td>basic.4y</td>\n",
       "      <td>no</td>\n",
       "      <td>no</td>\n",
       "      <td>no</td>\n",
       "      <td>telephone</td>\n",
       "      <td>may</td>\n",
       "      <td>...</td>\n",
       "      <td>1</td>\n",
       "      <td>999.0</td>\n",
       "      <td>0</td>\n",
       "      <td>nonexistent</td>\n",
       "      <td>1.1</td>\n",
       "      <td>93.994</td>\n",
       "      <td>-36.4</td>\n",
       "      <td>4.857</td>\n",
       "      <td>5191.0</td>\n",
       "      <td>no</td>\n",
       "    </tr>\n",
       "    <tr>\n",
       "      <th>1</th>\n",
       "      <td>1</td>\n",
       "      <td>57</td>\n",
       "      <td>services</td>\n",
       "      <td>married</td>\n",
       "      <td>high.school</td>\n",
       "      <td>unknown</td>\n",
       "      <td>no</td>\n",
       "      <td>no</td>\n",
       "      <td>telephone</td>\n",
       "      <td>may</td>\n",
       "      <td>...</td>\n",
       "      <td>1</td>\n",
       "      <td>999.0</td>\n",
       "      <td>0</td>\n",
       "      <td>nonexistent</td>\n",
       "      <td>1.1</td>\n",
       "      <td>93.994</td>\n",
       "      <td>-36.4</td>\n",
       "      <td>4.857</td>\n",
       "      <td>5191.0</td>\n",
       "      <td>no</td>\n",
       "    </tr>\n",
       "    <tr>\n",
       "      <th>2</th>\n",
       "      <td>2</td>\n",
       "      <td>37</td>\n",
       "      <td>services</td>\n",
       "      <td>married</td>\n",
       "      <td>high.school</td>\n",
       "      <td>no</td>\n",
       "      <td>yes</td>\n",
       "      <td>no</td>\n",
       "      <td>telephone</td>\n",
       "      <td>may</td>\n",
       "      <td>...</td>\n",
       "      <td>1</td>\n",
       "      <td>999.0</td>\n",
       "      <td>0</td>\n",
       "      <td>nonexistent</td>\n",
       "      <td>1.1</td>\n",
       "      <td>93.994</td>\n",
       "      <td>-36.4</td>\n",
       "      <td>4.857</td>\n",
       "      <td>5191.0</td>\n",
       "      <td>no</td>\n",
       "    </tr>\n",
       "    <tr>\n",
       "      <th>3</th>\n",
       "      <td>3</td>\n",
       "      <td>40</td>\n",
       "      <td>admin.</td>\n",
       "      <td>married</td>\n",
       "      <td>basic.6y</td>\n",
       "      <td>no</td>\n",
       "      <td>no</td>\n",
       "      <td>no</td>\n",
       "      <td>telephone</td>\n",
       "      <td>may</td>\n",
       "      <td>...</td>\n",
       "      <td>1</td>\n",
       "      <td>999.0</td>\n",
       "      <td>0</td>\n",
       "      <td>nonexistent</td>\n",
       "      <td>1.1</td>\n",
       "      <td>93.994</td>\n",
       "      <td>-36.4</td>\n",
       "      <td>4.857</td>\n",
       "      <td>5191.0</td>\n",
       "      <td>no</td>\n",
       "    </tr>\n",
       "    <tr>\n",
       "      <th>4</th>\n",
       "      <td>4</td>\n",
       "      <td>56</td>\n",
       "      <td>services</td>\n",
       "      <td>married</td>\n",
       "      <td>high.school</td>\n",
       "      <td>no</td>\n",
       "      <td>no</td>\n",
       "      <td>yes</td>\n",
       "      <td>telephone</td>\n",
       "      <td>may</td>\n",
       "      <td>...</td>\n",
       "      <td>1</td>\n",
       "      <td>999.0</td>\n",
       "      <td>0</td>\n",
       "      <td>nonexistent</td>\n",
       "      <td>1.1</td>\n",
       "      <td>93.994</td>\n",
       "      <td>-36.4</td>\n",
       "      <td>4.857</td>\n",
       "      <td>5191.0</td>\n",
       "      <td>no</td>\n",
       "    </tr>\n",
       "  </tbody>\n",
       "</table>\n",
       "<p>5 rows × 22 columns</p>\n",
       "</div>"
      ],
      "text/plain": [
       "   id  age        job  marital    education  default housing loan    contact  \\\n",
       "0   0   56  housemaid  married     basic.4y       no      no   no  telephone   \n",
       "1   1   57   services  married  high.school  unknown      no   no  telephone   \n",
       "2   2   37   services  married  high.school       no     yes   no  telephone   \n",
       "3   3   40     admin.  married     basic.6y       no      no   no  telephone   \n",
       "4   4   56   services  married  high.school       no      no  yes  telephone   \n",
       "\n",
       "  month  ... campaign  pdays  previous     poutcome  emp.var.rate  \\\n",
       "0   may  ...        1  999.0         0  nonexistent           1.1   \n",
       "1   may  ...        1  999.0         0  nonexistent           1.1   \n",
       "2   may  ...        1  999.0         0  nonexistent           1.1   \n",
       "3   may  ...        1  999.0         0  nonexistent           1.1   \n",
       "4   may  ...        1  999.0         0  nonexistent           1.1   \n",
       "\n",
       "  cons.price.idx  cons.conf.idx  euribor3m  nr.employed  subscription  \n",
       "0         93.994          -36.4      4.857       5191.0            no  \n",
       "1         93.994          -36.4      4.857       5191.0            no  \n",
       "2         93.994          -36.4      4.857       5191.0            no  \n",
       "3         93.994          -36.4      4.857       5191.0            no  \n",
       "4         93.994          -36.4      4.857       5191.0            no  \n",
       "\n",
       "[5 rows x 22 columns]"
      ]
     },
     "execution_count": 8,
     "metadata": {},
     "output_type": "execute_result"
    }
   ],
   "source": [
    "df.head()"
   ]
  },
  {
   "cell_type": "code",
   "execution_count": 10,
   "id": "ff4414fa",
   "metadata": {},
   "outputs": [],
   "source": [
    "df_null_count=df.isnull().sum()"
   ]
  },
  {
   "cell_type": "markdown",
   "id": "f14dfb0a",
   "metadata": {},
   "source": [
    "there is one missing value in column pdays"
   ]
  },
  {
   "cell_type": "code",
   "execution_count": 11,
   "id": "21f6a2c9",
   "metadata": {},
   "outputs": [
    {
     "data": {
      "text/plain": [
       "array([999.,   4.,   3.,  12.,   6.,  nan,  16.,  10.,  11.,   1.,   9.,\n",
       "         5.,   2.,  15.,   8.,   7.,  21.,   0.,  14.,  13.,  17.,  18.,\n",
       "        22.,  19.,  26.,  20.,  25.,  27.])"
      ]
     },
     "execution_count": 11,
     "metadata": {},
     "output_type": "execute_result"
    }
   ],
   "source": [
    "df['pdays'].unique()"
   ]
  },
  {
   "cell_type": "markdown",
   "id": "7ecb5596",
   "metadata": {},
   "source": [
    "From the above result , we can see that the data distribution is is drastically varied between both the class labels."
   ]
  },
  {
   "cell_type": "code",
   "execution_count": 12,
   "id": "7ec4b39d",
   "metadata": {},
   "outputs": [
    {
     "name": "stdout",
     "output_type": "stream",
     "text": [
      "<class 'pandas.core.frame.DataFrame'>\n",
      "RangeIndex: 40000 entries, 0 to 39999\n",
      "Data columns (total 22 columns):\n",
      " #   Column          Non-Null Count  Dtype  \n",
      "---  ------          --------------  -----  \n",
      " 0   id              40000 non-null  int64  \n",
      " 1   age             40000 non-null  int64  \n",
      " 2   job             40000 non-null  object \n",
      " 3   marital         40000 non-null  object \n",
      " 4   education       40000 non-null  object \n",
      " 5   default         40000 non-null  object \n",
      " 6   housing         40000 non-null  object \n",
      " 7   loan            40000 non-null  object \n",
      " 8   contact         40000 non-null  object \n",
      " 9   month           40000 non-null  object \n",
      " 10  day_of_week     40000 non-null  object \n",
      " 11  duration        40000 non-null  int64  \n",
      " 12  campaign        40000 non-null  int64  \n",
      " 13  pdays           39999 non-null  float64\n",
      " 14  previous        40000 non-null  int64  \n",
      " 15  poutcome        40000 non-null  object \n",
      " 16  emp.var.rate    40000 non-null  float64\n",
      " 17  cons.price.idx  40000 non-null  float64\n",
      " 18  cons.conf.idx   40000 non-null  float64\n",
      " 19  euribor3m       40000 non-null  float64\n",
      " 20  nr.employed     40000 non-null  float64\n",
      " 21  subscription    40000 non-null  object \n",
      "dtypes: float64(6), int64(5), object(11)\n",
      "memory usage: 6.7+ MB\n"
     ]
    }
   ],
   "source": [
    "df.info()"
   ]
  },
  {
   "cell_type": "markdown",
   "id": "e3ea1d50",
   "metadata": {},
   "source": [
    "From the analysis and instructions given all the string attributes are categorical"
   ]
  },
  {
   "cell_type": "markdown",
   "id": "9e6a6336",
   "metadata": {},
   "source": [
    "df_copy=df.copy()"
   ]
  },
  {
   "cell_type": "code",
   "execution_count": 17,
   "id": "6840fdc4",
   "metadata": {},
   "outputs": [
    {
     "data": {
      "text/html": [
       "<div>\n",
       "<style scoped>\n",
       "    .dataframe tbody tr th:only-of-type {\n",
       "        vertical-align: middle;\n",
       "    }\n",
       "\n",
       "    .dataframe tbody tr th {\n",
       "        vertical-align: top;\n",
       "    }\n",
       "\n",
       "    .dataframe thead th {\n",
       "        text-align: right;\n",
       "    }\n",
       "</style>\n",
       "<table border=\"1\" class=\"dataframe\">\n",
       "  <thead>\n",
       "    <tr style=\"text-align: right;\">\n",
       "      <th></th>\n",
       "      <th>id</th>\n",
       "      <th>age</th>\n",
       "      <th>job</th>\n",
       "      <th>marital</th>\n",
       "      <th>education</th>\n",
       "      <th>default</th>\n",
       "      <th>housing</th>\n",
       "      <th>loan</th>\n",
       "      <th>contact</th>\n",
       "      <th>month</th>\n",
       "      <th>...</th>\n",
       "      <th>campaign</th>\n",
       "      <th>pdays</th>\n",
       "      <th>previous</th>\n",
       "      <th>poutcome</th>\n",
       "      <th>emp.var.rate</th>\n",
       "      <th>cons.price.idx</th>\n",
       "      <th>cons.conf.idx</th>\n",
       "      <th>euribor3m</th>\n",
       "      <th>nr.employed</th>\n",
       "      <th>subscription</th>\n",
       "    </tr>\n",
       "  </thead>\n",
       "  <tbody>\n",
       "    <tr>\n",
       "      <th>0</th>\n",
       "      <td>0</td>\n",
       "      <td>56</td>\n",
       "      <td>housemaid</td>\n",
       "      <td>married</td>\n",
       "      <td>basic.4y</td>\n",
       "      <td>no</td>\n",
       "      <td>no</td>\n",
       "      <td>no</td>\n",
       "      <td>telephone</td>\n",
       "      <td>may</td>\n",
       "      <td>...</td>\n",
       "      <td>1</td>\n",
       "      <td>999.0</td>\n",
       "      <td>0</td>\n",
       "      <td>nonexistent</td>\n",
       "      <td>1.1</td>\n",
       "      <td>93.994</td>\n",
       "      <td>-36.4</td>\n",
       "      <td>4.857</td>\n",
       "      <td>5191.0</td>\n",
       "      <td>no</td>\n",
       "    </tr>\n",
       "    <tr>\n",
       "      <th>1</th>\n",
       "      <td>1</td>\n",
       "      <td>57</td>\n",
       "      <td>services</td>\n",
       "      <td>married</td>\n",
       "      <td>high.school</td>\n",
       "      <td>unknown</td>\n",
       "      <td>no</td>\n",
       "      <td>no</td>\n",
       "      <td>telephone</td>\n",
       "      <td>may</td>\n",
       "      <td>...</td>\n",
       "      <td>1</td>\n",
       "      <td>999.0</td>\n",
       "      <td>0</td>\n",
       "      <td>nonexistent</td>\n",
       "      <td>1.1</td>\n",
       "      <td>93.994</td>\n",
       "      <td>-36.4</td>\n",
       "      <td>4.857</td>\n",
       "      <td>5191.0</td>\n",
       "      <td>no</td>\n",
       "    </tr>\n",
       "    <tr>\n",
       "      <th>2</th>\n",
       "      <td>2</td>\n",
       "      <td>37</td>\n",
       "      <td>services</td>\n",
       "      <td>married</td>\n",
       "      <td>high.school</td>\n",
       "      <td>no</td>\n",
       "      <td>yes</td>\n",
       "      <td>no</td>\n",
       "      <td>telephone</td>\n",
       "      <td>may</td>\n",
       "      <td>...</td>\n",
       "      <td>1</td>\n",
       "      <td>999.0</td>\n",
       "      <td>0</td>\n",
       "      <td>nonexistent</td>\n",
       "      <td>1.1</td>\n",
       "      <td>93.994</td>\n",
       "      <td>-36.4</td>\n",
       "      <td>4.857</td>\n",
       "      <td>5191.0</td>\n",
       "      <td>no</td>\n",
       "    </tr>\n",
       "    <tr>\n",
       "      <th>3</th>\n",
       "      <td>3</td>\n",
       "      <td>40</td>\n",
       "      <td>admin.</td>\n",
       "      <td>married</td>\n",
       "      <td>basic.6y</td>\n",
       "      <td>no</td>\n",
       "      <td>no</td>\n",
       "      <td>no</td>\n",
       "      <td>telephone</td>\n",
       "      <td>may</td>\n",
       "      <td>...</td>\n",
       "      <td>1</td>\n",
       "      <td>999.0</td>\n",
       "      <td>0</td>\n",
       "      <td>nonexistent</td>\n",
       "      <td>1.1</td>\n",
       "      <td>93.994</td>\n",
       "      <td>-36.4</td>\n",
       "      <td>4.857</td>\n",
       "      <td>5191.0</td>\n",
       "      <td>no</td>\n",
       "    </tr>\n",
       "    <tr>\n",
       "      <th>4</th>\n",
       "      <td>4</td>\n",
       "      <td>56</td>\n",
       "      <td>services</td>\n",
       "      <td>married</td>\n",
       "      <td>high.school</td>\n",
       "      <td>no</td>\n",
       "      <td>no</td>\n",
       "      <td>yes</td>\n",
       "      <td>telephone</td>\n",
       "      <td>may</td>\n",
       "      <td>...</td>\n",
       "      <td>1</td>\n",
       "      <td>999.0</td>\n",
       "      <td>0</td>\n",
       "      <td>nonexistent</td>\n",
       "      <td>1.1</td>\n",
       "      <td>93.994</td>\n",
       "      <td>-36.4</td>\n",
       "      <td>4.857</td>\n",
       "      <td>5191.0</td>\n",
       "      <td>no</td>\n",
       "    </tr>\n",
       "  </tbody>\n",
       "</table>\n",
       "<p>5 rows × 22 columns</p>\n",
       "</div>"
      ],
      "text/plain": [
       "   id  age        job  marital    education  default housing loan    contact  \\\n",
       "0   0   56  housemaid  married     basic.4y       no      no   no  telephone   \n",
       "1   1   57   services  married  high.school  unknown      no   no  telephone   \n",
       "2   2   37   services  married  high.school       no     yes   no  telephone   \n",
       "3   3   40     admin.  married     basic.6y       no      no   no  telephone   \n",
       "4   4   56   services  married  high.school       no      no  yes  telephone   \n",
       "\n",
       "  month  ... campaign  pdays  previous     poutcome  emp.var.rate  \\\n",
       "0   may  ...        1  999.0         0  nonexistent           1.1   \n",
       "1   may  ...        1  999.0         0  nonexistent           1.1   \n",
       "2   may  ...        1  999.0         0  nonexistent           1.1   \n",
       "3   may  ...        1  999.0         0  nonexistent           1.1   \n",
       "4   may  ...        1  999.0         0  nonexistent           1.1   \n",
       "\n",
       "  cons.price.idx  cons.conf.idx  euribor3m  nr.employed  subscription  \n",
       "0         93.994          -36.4      4.857       5191.0            no  \n",
       "1         93.994          -36.4      4.857       5191.0            no  \n",
       "2         93.994          -36.4      4.857       5191.0            no  \n",
       "3         93.994          -36.4      4.857       5191.0            no  \n",
       "4         93.994          -36.4      4.857       5191.0            no  \n",
       "\n",
       "[5 rows x 22 columns]"
      ]
     },
     "execution_count": 17,
     "metadata": {},
     "output_type": "execute_result"
    }
   ],
   "source": [
    "df_copy=df.copy()\n",
    "df_copy.head()"
   ]
  },
  {
   "cell_type": "code",
   "execution_count": 18,
   "id": "b9115742",
   "metadata": {},
   "outputs": [
    {
     "data": {
      "text/html": [
       "<div>\n",
       "<style scoped>\n",
       "    .dataframe tbody tr th:only-of-type {\n",
       "        vertical-align: middle;\n",
       "    }\n",
       "\n",
       "    .dataframe tbody tr th {\n",
       "        vertical-align: top;\n",
       "    }\n",
       "\n",
       "    .dataframe thead th {\n",
       "        text-align: right;\n",
       "    }\n",
       "</style>\n",
       "<table border=\"1\" class=\"dataframe\">\n",
       "  <thead>\n",
       "    <tr style=\"text-align: right;\">\n",
       "      <th></th>\n",
       "      <th>id</th>\n",
       "      <th>age</th>\n",
       "      <th>job</th>\n",
       "      <th>marital</th>\n",
       "      <th>education</th>\n",
       "      <th>default</th>\n",
       "      <th>housing</th>\n",
       "      <th>loan</th>\n",
       "      <th>contact</th>\n",
       "      <th>month</th>\n",
       "      <th>...</th>\n",
       "      <th>campaign</th>\n",
       "      <th>pdays</th>\n",
       "      <th>previous</th>\n",
       "      <th>poutcome</th>\n",
       "      <th>emp.var.rate</th>\n",
       "      <th>cons.price.idx</th>\n",
       "      <th>cons.conf.idx</th>\n",
       "      <th>euribor3m</th>\n",
       "      <th>nr.employed</th>\n",
       "      <th>subscription</th>\n",
       "    </tr>\n",
       "  </thead>\n",
       "  <tbody>\n",
       "    <tr>\n",
       "      <th>358</th>\n",
       "      <td>358</td>\n",
       "      <td>33</td>\n",
       "      <td>self-employed</td>\n",
       "      <td>married</td>\n",
       "      <td>basic.9y</td>\n",
       "      <td>unknown</td>\n",
       "      <td>no</td>\n",
       "      <td>no</td>\n",
       "      <td>cellular</td>\n",
       "      <td>jul</td>\n",
       "      <td>...</td>\n",
       "      <td>1</td>\n",
       "      <td>NaN</td>\n",
       "      <td>0</td>\n",
       "      <td>nonexistent</td>\n",
       "      <td>1.4</td>\n",
       "      <td>93.918</td>\n",
       "      <td>-42.7</td>\n",
       "      <td>4.963</td>\n",
       "      <td>5228.1</td>\n",
       "      <td>no</td>\n",
       "    </tr>\n",
       "  </tbody>\n",
       "</table>\n",
       "<p>1 rows × 22 columns</p>\n",
       "</div>"
      ],
      "text/plain": [
       "      id  age            job  marital education  default housing loan  \\\n",
       "358  358   33  self-employed  married  basic.9y  unknown      no   no   \n",
       "\n",
       "      contact month  ... campaign  pdays  previous     poutcome  emp.var.rate  \\\n",
       "358  cellular   jul  ...        1    NaN         0  nonexistent           1.4   \n",
       "\n",
       "    cons.price.idx  cons.conf.idx  euribor3m  nr.employed  subscription  \n",
       "358         93.918          -42.7      4.963       5228.1            no  \n",
       "\n",
       "[1 rows x 22 columns]"
      ]
     },
     "execution_count": 18,
     "metadata": {},
     "output_type": "execute_result"
    }
   ],
   "source": [
    "df[df.isna().any(axis=1)]"
   ]
  },
  {
   "cell_type": "markdown",
   "id": "d8cdc119",
   "metadata": {},
   "source": [
    "df.isnull().sum()"
   ]
  },
  {
   "cell_type": "code",
   "execution_count": 35,
   "id": "4c212409",
   "metadata": {},
   "outputs": [
    {
     "data": {
      "text/plain": [
       "count    39999.000000\n",
       "mean       962.680617\n",
       "std        186.405346\n",
       "min          0.000000\n",
       "25%        999.000000\n",
       "50%        999.000000\n",
       "75%        999.000000\n",
       "max        999.000000\n",
       "Name: pdays, dtype: float64"
      ]
     },
     "execution_count": 35,
     "metadata": {},
     "output_type": "execute_result"
    }
   ],
   "source": [
    "df['pdays'].describe()"
   ]
  },
  {
   "cell_type": "code",
   "execution_count": 74,
   "id": "f82df357",
   "metadata": {},
   "outputs": [],
   "source": [
    "df_dropna = df[df['pdays'].notna()]\n"
   ]
  },
  {
   "cell_type": "code",
   "execution_count": 125,
   "id": "a44c13a8",
   "metadata": {},
   "outputs": [],
   "source": [
    "df_fillna = pd.DataFrame(df_copy.fillna(df_copy['pdays'].mean()))"
   ]
  },
  {
   "cell_type": "code",
   "execution_count": 126,
   "id": "4c7d67d4",
   "metadata": {},
   "outputs": [
    {
     "data": {
      "text/plain": [
       "id                0\n",
       "age               0\n",
       "job               0\n",
       "marital           0\n",
       "education         0\n",
       "default           0\n",
       "housing           0\n",
       "loan              0\n",
       "contact           0\n",
       "month             0\n",
       "day_of_week       0\n",
       "duration          0\n",
       "campaign          0\n",
       "pdays             0\n",
       "previous          0\n",
       "poutcome          0\n",
       "emp.var.rate      0\n",
       "cons.price.idx    0\n",
       "cons.conf.idx     0\n",
       "euribor3m         0\n",
       "nr.employed       0\n",
       "subscription      0\n",
       "dtype: int64"
      ]
     },
     "execution_count": 126,
     "metadata": {},
     "output_type": "execute_result"
    }
   ],
   "source": [
    "df_fillna.isnull().sum()"
   ]
  },
  {
   "cell_type": "markdown",
   "id": "4d40fef5",
   "metadata": {},
   "source": [
    "task 1.b"
   ]
  },
  {
   "cell_type": "code",
   "execution_count": 107,
   "id": "2d30041a",
   "metadata": {},
   "outputs": [
    {
     "data": {
      "image/png": "[encoded data removed]",
      "text/plain": [
       "<Figure size 432x288 with 1 Axes>"
      ]
     },
     "metadata": {},
     "output_type": "display_data"
    }
   ],
   "source": [
    "from matplotlib import pyplot as plt\n",
    "from collections import Counter\n",
    "\n",
    "plt.style.use(\"fivethirtyeight\")\n",
    "subscription_responses = df_fillna['subscription']\n",
    "subscription_counter = Counter()\n",
    "for response in subscription_responses:\n",
    "    subscription_counter.update(response.split(';'))\n",
    "\n",
    "subscription_choices = []\n",
    "count = []\n",
    "for item in subscription_counter.most_common(100):\n",
    "    subscription_choices.append(item[0])\n",
    "    count.append(item[1])\n",
    "subscription_choices.reverse()\n",
    "count.reverse()\n",
    "plt.bar(subscription_choices, count)\n",
    "plt.title(\"Subscription analysis\")\n",
    "plt.ylabel(\"count\")\n",
    "plt.xlabel(\"class labels\")\n",
    "plt.tight_layout()\n",
    "plt.show()"
   ]
  },
  {
   "cell_type": "markdown",
   "id": "5af427d9",
   "metadata": {},
   "source": [
    "task 2.c"
   ]
  },
  {
   "cell_type": "code",
   "execution_count": 97,
   "id": "b4df07b1",
   "metadata": {},
   "outputs": [
    {
     "name": "stdout",
     "output_type": "stream",
     "text": [
      "<class 'pandas.core.frame.DataFrame'>\n",
      "RangeIndex: 40000 entries, 0 to 39999\n",
      "Data columns (total 22 columns):\n",
      " #   Column          Non-Null Count  Dtype  \n",
      "---  ------          --------------  -----  \n",
      " 0   id              40000 non-null  int64  \n",
      " 1   age             40000 non-null  int64  \n",
      " 2   job             40000 non-null  object \n",
      " 3   marital         40000 non-null  object \n",
      " 4   education       40000 non-null  object \n",
      " 5   default         40000 non-null  object \n",
      " 6   housing         40000 non-null  object \n",
      " 7   loan            40000 non-null  object \n",
      " 8   contact         40000 non-null  object \n",
      " 9   month           40000 non-null  object \n",
      " 10  day_of_week     40000 non-null  object \n",
      " 11  duration        40000 non-null  int64  \n",
      " 12  campaign        40000 non-null  int64  \n",
      " 13  pdays           40000 non-null  float64\n",
      " 14  previous        40000 non-null  int64  \n",
      " 15  poutcome        40000 non-null  object \n",
      " 16  emp.var.rate    40000 non-null  float64\n",
      " 17  cons.price.idx  40000 non-null  float64\n",
      " 18  cons.conf.idx   40000 non-null  float64\n",
      " 19  euribor3m       40000 non-null  float64\n",
      " 20  nr.employed     40000 non-null  float64\n",
      " 21  subscription    40000 non-null  object \n",
      "dtypes: float64(6), int64(5), object(11)\n",
      "memory usage: 6.7+ MB\n"
     ]
    }
   ],
   "source": [
    "df_fillna.info()"
   ]
  },
  {
   "cell_type": "code",
   "execution_count": 88,
   "id": "e3f6167d",
   "metadata": {},
   "outputs": [],
   "source": [
    "import numpy as np\n"
   ]
  },
  {
   "cell_type": "code",
   "execution_count": 103,
   "id": "a48410c3",
   "metadata": {},
   "outputs": [
    {
     "name": "stdout",
     "output_type": "stream",
     "text": [
      "['housemaid' 'services' 'admin.' 'retired' 'blue-collar' 'technician'\n",
      " 'self-employed' 'management' 'entrepreneur' 'student' 'unknown'\n",
      " 'unemployed']\n",
      "['married' 'single' 'divorced' 'unknown']\n",
      "['basic.4y' 'high.school' 'basic.6y' 'basic.9y' 'university.degree'\n",
      " 'professional.course' 'unknown' 'illiterate']\n",
      "['no' 'unknown' 'yes']\n",
      "['no' 'yes' 'unknown']\n",
      "['no' 'yes' 'unknown']\n",
      "['telephone' 'cellular']\n",
      "['may' 'jun' 'jul' 'aug' 'nov' 'apr' 'sep' 'oct' 'mar' 'dec']\n",
      "['mon' 'fri' 'thu' 'tue' 'wed']\n",
      "['nonexistent' 'failure' 'success']\n",
      "['no' 'yes']\n"
     ]
    },
    {
     "name": "stderr",
     "output_type": "stream",
     "text": [
      "/var/folders/d1/hj61c16j11qc7w88b5dtvy7m0000gn/T/ipykernel_16888/3732446728.py:1: DeprecationWarning: `np.object` is a deprecated alias for the builtin `object`. To silence this warning, use `object` by itself. Doing this will not modify any behavior and is safe. \n",
      "Deprecated in NumPy 1.20; for more details and guidance: https://numpy.org/devdocs/release/1.20.0-notes.html#deprecations\n",
      "  df_categorical=df_fillna.loc[:,df_fillna.dtypes == np.object]\n"
     ]
    }
   ],
   "source": [
    "df_categorical=df_fillna.loc[:,df_fillna.dtypes == np.object]\n",
    "for col in df_categorical:\n",
    "    print(df_categorical[col].unique())"
   ]
  },
  {
   "cell_type": "code",
   "execution_count": 104,
   "id": "926c9c7a",
   "metadata": {},
   "outputs": [
    {
     "data": {
      "text/plain": [
       "Index(['job', 'marital', 'education', 'default', 'housing', 'loan', 'contact',\n",
       "       'month', 'day_of_week', 'poutcome', 'subscription'],\n",
       "      dtype='object')"
      ]
     },
     "execution_count": 104,
     "metadata": {},
     "output_type": "execute_result"
    }
   ],
   "source": [
    "df_categorical.columns"
   ]
  },
  {
   "cell_type": "code",
   "execution_count": 106,
   "id": "3efef101",
   "metadata": {},
   "outputs": [
    {
     "name": "stdout",
     "output_type": "stream",
     "text": [
      "feature attribute         chi-squared value\n",
      "job                920.307103074125\n",
      "marital            121.44647351660834\n",
      "education          184.5089183431896\n",
      "default            395.90378070839677\n",
      "housing            4.886373967085471\n",
      "loan               0.40057145046718035\n",
      "contact            836.6239582862397\n",
      "month              3017.769736182542\n",
      "day_of_week        23.52665715403947\n",
      "poutcome           4094.545532872977\n"
     ]
    }
   ],
   "source": [
    "from scipy import stats\n",
    "(chi2_job,p,dof,_) = stats.chi2_contingency(pd.crosstab(index=df['job'],columns=df['subscription']).values)\n",
    "(chi2_marital,p,dof,_) = stats.chi2_contingency(pd.crosstab(index=df['marital'],columns=df['subscription']).values)\n",
    "(chi2_education,p,dof,_) = stats.chi2_contingency(pd.crosstab(index=df['education'],columns=df['subscription']).values)\n",
    "(chi2_default,p,dof,_) = stats.chi2_contingency(pd.crosstab(index=df['default'],columns=df['subscription']).values)\n",
    "(chi2_housing,p,dof,_) = stats.chi2_contingency(pd.crosstab(index=df['housing'],columns=df['subscription']).values)\n",
    "(chi2_loan,p,dof,_) = stats.chi2_contingency(pd.crosstab(index=df['loan'],columns=df['subscription']).values)\n",
    "(chi2_contact,p,dof,_) = stats.chi2_contingency(pd.crosstab(index=df['contact'],columns=df['subscription']).values)\n",
    "(chi2_month,p,dof,_) = stats.chi2_contingency(pd.crosstab(index=df['month'],columns=df['subscription']).values)\n",
    "(chi2_day_of_week,p,dof,_) = stats.chi2_contingency(pd.crosstab(index=df['day_of_week'],columns=df['subscription']).values)\n",
    "(chi2_poutcome,p,dof,_) = stats.chi2_contingency(pd.crosstab(index=df['poutcome'],columns=df['subscription']).values)\n",
    "\n",
    "print(\"feature attribute         chi-squared value\")\n",
    "print(\"job               \",chi2_job)\n",
    "print(\"marital           \",chi2_marital)\n",
    "print(\"education         \",chi2_education)\n",
    "print(\"default           \",chi2_default)\n",
    "print(\"housing           \",chi2_housing)\n",
    "print(\"loan              \",chi2_loan)\n",
    "print(\"contact           \",chi2_contact)\n",
    "print(\"month             \",chi2_month)\n",
    "print(\"day_of_week       \",chi2_day_of_week)\n",
    "print(\"poutcome          \",chi2_poutcome)"
   ]
  },
  {
   "cell_type": "code",
   "execution_count": 232,
   "id": "2440dc2e",
   "metadata": {},
   "outputs": [],
   "source": [
    "Chi2_df=pd.DataFrame(data=np.array([['job',chi2_job],\n",
    "                                           ['marital',chi2_marital],\n",
    "                                           ['education',chi2_education],\n",
    "                                           ['default',chi2_default],\n",
    "                                           ['housing',chi2_housing],\n",
    "                                           ['loan',chi2_loan],\n",
    "                                           ['contact',chi2_contact],\n",
    "                                           ['month',chi2_month],\n",
    "                                           ['day_of_week',chi2_day_of_week],\n",
    "                                           ['poutcome',chi2_poutcome]]),columns=['Feature','Chi2'])"
   ]
  },
  {
   "cell_type": "code",
   "execution_count": 235,
   "id": "fd6bcd8e",
   "metadata": {},
   "outputs": [
    {
     "data": {
      "text/html": [
       "<div>\n",
       "<style scoped>\n",
       "    .dataframe tbody tr th:only-of-type {\n",
       "        vertical-align: middle;\n",
       "    }\n",
       "\n",
       "    .dataframe tbody tr th {\n",
       "        vertical-align: top;\n",
       "    }\n",
       "\n",
       "    .dataframe thead th {\n",
       "        text-align: right;\n",
       "    }\n",
       "</style>\n",
       "<table border=\"1\" class=\"dataframe\">\n",
       "  <thead>\n",
       "    <tr style=\"text-align: right;\">\n",
       "      <th></th>\n",
       "      <th>Feature</th>\n",
       "      <th>Chi2</th>\n",
       "    </tr>\n",
       "  </thead>\n",
       "  <tbody>\n",
       "    <tr>\n",
       "      <th>5</th>\n",
       "      <td>loan</td>\n",
       "      <td>0.400571</td>\n",
       "    </tr>\n",
       "    <tr>\n",
       "      <th>4</th>\n",
       "      <td>housing</td>\n",
       "      <td>4.886374</td>\n",
       "    </tr>\n",
       "    <tr>\n",
       "      <th>8</th>\n",
       "      <td>day_of_week</td>\n",
       "      <td>23.526657</td>\n",
       "    </tr>\n",
       "    <tr>\n",
       "      <th>1</th>\n",
       "      <td>marital</td>\n",
       "      <td>121.446474</td>\n",
       "    </tr>\n",
       "    <tr>\n",
       "      <th>2</th>\n",
       "      <td>education</td>\n",
       "      <td>184.508918</td>\n",
       "    </tr>\n",
       "    <tr>\n",
       "      <th>3</th>\n",
       "      <td>default</td>\n",
       "      <td>395.903781</td>\n",
       "    </tr>\n",
       "    <tr>\n",
       "      <th>6</th>\n",
       "      <td>contact</td>\n",
       "      <td>836.623958</td>\n",
       "    </tr>\n",
       "    <tr>\n",
       "      <th>0</th>\n",
       "      <td>job</td>\n",
       "      <td>920.307103</td>\n",
       "    </tr>\n",
       "    <tr>\n",
       "      <th>7</th>\n",
       "      <td>month</td>\n",
       "      <td>3017.769736</td>\n",
       "    </tr>\n",
       "    <tr>\n",
       "      <th>9</th>\n",
       "      <td>poutcome</td>\n",
       "      <td>4094.545533</td>\n",
       "    </tr>\n",
       "  </tbody>\n",
       "</table>\n",
       "</div>"
      ],
      "text/plain": [
       "       Feature         Chi2\n",
       "5         loan     0.400571\n",
       "4      housing     4.886374\n",
       "8  day_of_week    23.526657\n",
       "1      marital   121.446474\n",
       "2    education   184.508918\n",
       "3      default   395.903781\n",
       "6      contact   836.623958\n",
       "0          job   920.307103\n",
       "7        month  3017.769736\n",
       "9     poutcome  4094.545533"
      ]
     },
     "execution_count": 235,
     "metadata": {},
     "output_type": "execute_result"
    }
   ],
   "source": [
    "Chi2_df['Chi2'] = Chi2_df['Chi2'].astype(float)\n",
    "Chi2_df.sort_values(by=['Chi2'], ascending=True)"
   ]
  },
  {
   "cell_type": "code",
   "execution_count": 242,
   "id": "9a12281c",
   "metadata": {},
   "outputs": [],
   "source": [
    "norm_df=df_fillna.copy()\n",
    "norm_df['age_new']=pd.cut(df_fillna['age'], bins=[10,20,30,40,50,60,70,80,90,100],labels=[1,2,3,4,5,6,7,8,9])\n",
    "norm_df['duration_new']=pd.cut(df_fillna['duration'], bins=[-1,1000,2000,3000,4000,5000],labels=[1,2,3,4,5])\n",
    "norm_df['campaign_new']=pd.cut(df_fillna['campaign'], bins=[0,10,20,30,40,50,60],labels=[1,2,3,4,5,6])\n",
    "norm_df['pdays_new']=pd.cut(df_fillna['pdays'],  bins=[-1,100,200,300,400,500,600,700,800,900,1000],labels=[1,2,3,4,5,6,7,8,9,10])\n",
    "norm_df['previous_new']=pd.cut(df_fillna['previous'],  bins=[-1,1,2,3,4,5,6,7,8],labels=[1,2,3,4,5,6,7,8])\n",
    "norm_df['emp.var.rate_new']=pd.cut(df_fillna['emp.var.rate'],  bins=[-4,-3,-2,-1,0,1,2],labels=[1,2,3,4,5,6])\n",
    "norm_df['cons.price.idx_new']=pd.cut(df_fillna['cons.price.idx'],  bins=[92,93,94,95],labels=[1,2,3])\n",
    "norm_df['cons.conf.idx_new']=pd.cut(df_fillna['cons.conf.idx'],  bins=[-51,-41,-31,-21],labels=[1,2,3])\n",
    "norm_df['euribor3m_new']=pd.cut(df_fillna['euribor3m'],  bins=[0,1,2,3,4,5,6],labels=[1,2,3,4,5,6])\n",
    "norm_df['nr.employed_new']=pd.cut(df_fillna['nr.employed'],  bins=[4900,5000,5100,5200,5300],labels=[1,2,3,4])"
   ]
  },
  {
   "cell_type": "code",
   "execution_count": 250,
   "id": "ce539c6e",
   "metadata": {},
   "outputs": [
    {
     "data": {
      "text/plain": [
       "count    40000.000000\n",
       "mean         3.620732\n",
       "std          1.734395\n",
       "min          0.634000\n",
       "25%          1.344000\n",
       "50%          4.857000\n",
       "75%          4.961000\n",
       "max          5.045000\n",
       "Name: euribor3m, dtype: float64"
      ]
     },
     "execution_count": 250,
     "metadata": {},
     "output_type": "execute_result"
    }
   ],
   "source": [
    "norm_df['euribor3m'].describe()"
   ]
  },
  {
   "cell_type": "code",
   "execution_count": 243,
   "id": "5dc13d6e",
   "metadata": {},
   "outputs": [
    {
     "data": {
      "text/plain": [
       "Index(['id', 'age', 'job', 'marital', 'education', 'default', 'housing',\n",
       "       'loan', 'contact', 'month', 'day_of_week', 'duration', 'campaign',\n",
       "       'pdays', 'previous', 'poutcome', 'emp.var.rate', 'cons.price.idx',\n",
       "       'cons.conf.idx', 'euribor3m', 'nr.employed', 'subscription', 'age_new',\n",
       "       'duration_new', 'campaign_new', 'pdays_new', 'previous_new',\n",
       "       'emp.var.rate_new', 'cons.price.idx_new', 'cons.conf.idx_new',\n",
       "       'euribor3m_new', 'nr.employed_new'],\n",
       "      dtype='object')"
      ]
     },
     "execution_count": 243,
     "metadata": {},
     "output_type": "execute_result"
    }
   ],
   "source": [
    "norm_df.columns"
   ]
  },
  {
   "cell_type": "code",
   "execution_count": 244,
   "id": "08cd23fd",
   "metadata": {},
   "outputs": [],
   "source": [
    "from sklearn.preprocessing import LabelEncoder \n",
    "import sklearn\n",
    "from sklearn.feature_selection import mutual_info_classif"
   ]
  },
  {
   "cell_type": "code",
   "execution_count": 245,
   "id": "11591150",
   "metadata": {},
   "outputs": [],
   "source": [
    "labelencoder=LabelEncoder()\n",
    "A=np.array(norm_df['age_new'])\n",
    "B=np.array(norm_df['duration_new'])\n",
    "C=np.array(norm_df['campaign_new'])\n",
    "D=np.array(norm_df['pdays_new'])\n",
    "E=np.array(norm_df['previous_new'])\n",
    "F=np.array(norm_df['emp.var.rate_new'])\n",
    "G=np.array(norm_df['cons.price.idx_new'])\n",
    "H=np.array(norm_df['cons.conf.idx_new'])\n",
    "I=np.array(norm_df['euribor3m_new'])\n",
    "J=np.array(norm_df['nr.employed_new'])\n",
    "\n",
    "P=np.array(labelencoder.fit_transform(norm_df['subscription']))\n",
    "\n",
    "MutualI_age=mutual_info_classif(A.reshape(-1,1),P,discrete_features=True)\n",
    "MutualI_duration=mutual_info_classif(B.reshape(-1,1),P,discrete_features=True)\n",
    "MutualI_campaign=mutual_info_classif(C.reshape(-1,1),P,discrete_features=True)\n",
    "MutualI_pdays=mutual_info_classif(D.reshape(-1,1),P,discrete_features=True)\n",
    "MutualI_previous=mutual_info_classif(E.reshape(-1,1),P,discrete_features=True)\n",
    "MutualI_emp_var_rate=mutual_info_classif(F.reshape(-1,1),P,discrete_features=True)\n",
    "MutualI_cons_price_idx=mutual_info_classif(G.reshape(-1,1),P,discrete_features=True)\n",
    "MutualI_cons_conf_idx=mutual_info_classif(H.reshape(-1,1),P,discrete_features=True)\n",
    "MutualI_euribor3m=mutual_info_classif(I.reshape(-1,1),P,discrete_features=True)\n",
    "MutualI_nr_employed=mutual_info_classif(J.reshape(-1,1),P,discrete_features=True)\n"
   ]
  },
  {
   "cell_type": "code",
   "execution_count": 246,
   "id": "484bb951",
   "metadata": {},
   "outputs": [
    {
     "name": "stderr",
     "output_type": "stream",
     "text": [
      "/var/folders/d1/hj61c16j11qc7w88b5dtvy7m0000gn/T/ipykernel_16888/2783604907.py:1: VisibleDeprecationWarning: Creating an ndarray from ragged nested sequences (which is a list-or-tuple of lists-or-tuples-or ndarrays with different lengths or shapes) is deprecated. If you meant to do this, you must specify 'dtype=object' when creating the ndarray.\n",
      "  Mutual_Info_df=pd.DataFrame(data=np.array([['age',MutualI_age],\n"
     ]
    }
   ],
   "source": [
    "Mutual_Info_df=pd.DataFrame(data=np.array([['age',MutualI_age],\n",
    "                                           ['duration',MutualI_duration],\n",
    "                                           ['campaign',MutualI_campaign],\n",
    "                                           ['pdays',MutualI_pdays],\n",
    "                                           ['previous',MutualI_previous],\n",
    "                                           ['emp_var_rate',MutualI_emp_var_rate],\n",
    "                                           ['cons_price_idx',MutualI_cons_price_idx],\n",
    "                                           ['cons_conf_idx',MutualI_cons_conf_idx],\n",
    "                                           ['euribor3m',MutualI_euribor3m],\n",
    "                                           ['nr_employed',MutualI_nr_employed]]),columns=['Feature','Mutual_Info'])"
   ]
  },
  {
   "cell_type": "code",
   "execution_count": 247,
   "id": "27183260",
   "metadata": {},
   "outputs": [
    {
     "data": {
      "text/html": [
       "<div>\n",
       "<style scoped>\n",
       "    .dataframe tbody tr th:only-of-type {\n",
       "        vertical-align: middle;\n",
       "    }\n",
       "\n",
       "    .dataframe tbody tr th {\n",
       "        vertical-align: top;\n",
       "    }\n",
       "\n",
       "    .dataframe thead th {\n",
       "        text-align: right;\n",
       "    }\n",
       "</style>\n",
       "<table border=\"1\" class=\"dataframe\">\n",
       "  <thead>\n",
       "    <tr style=\"text-align: right;\">\n",
       "      <th></th>\n",
       "      <th>Feature</th>\n",
       "      <th>Mutual_Info</th>\n",
       "    </tr>\n",
       "  </thead>\n",
       "  <tbody>\n",
       "    <tr>\n",
       "      <th>0</th>\n",
       "      <td>age</td>\n",
       "      <td>[0.011915973421869563]</td>\n",
       "    </tr>\n",
       "    <tr>\n",
       "      <th>1</th>\n",
       "      <td>duration</td>\n",
       "      <td>[0.016234063765584294]</td>\n",
       "    </tr>\n",
       "    <tr>\n",
       "      <th>2</th>\n",
       "      <td>campaign</td>\n",
       "      <td>[0.001021119699794365]</td>\n",
       "    </tr>\n",
       "    <tr>\n",
       "      <th>3</th>\n",
       "      <td>pdays</td>\n",
       "      <td>[0.03087566188805968]</td>\n",
       "    </tr>\n",
       "    <tr>\n",
       "      <th>4</th>\n",
       "      <td>previous</td>\n",
       "      <td>[0.012407471459780176]</td>\n",
       "    </tr>\n",
       "    <tr>\n",
       "      <th>5</th>\n",
       "      <td>emp_var_rate</td>\n",
       "      <td>[0.04471264255923449]</td>\n",
       "    </tr>\n",
       "    <tr>\n",
       "      <th>6</th>\n",
       "      <td>cons_price_idx</td>\n",
       "      <td>[0.013132086180079092]</td>\n",
       "    </tr>\n",
       "    <tr>\n",
       "      <th>7</th>\n",
       "      <td>cons_conf_idx</td>\n",
       "      <td>[0.011127856029028993]</td>\n",
       "    </tr>\n",
       "    <tr>\n",
       "      <th>8</th>\n",
       "      <td>euribor3m</td>\n",
       "      <td>[0.05503166762654602]</td>\n",
       "    </tr>\n",
       "    <tr>\n",
       "      <th>9</th>\n",
       "      <td>nr_employed</td>\n",
       "      <td>[0.045187292168957]</td>\n",
       "    </tr>\n",
       "  </tbody>\n",
       "</table>\n",
       "</div>"
      ],
      "text/plain": [
       "          Feature             Mutual_Info\n",
       "0             age  [0.011915973421869563]\n",
       "1        duration  [0.016234063765584294]\n",
       "2        campaign  [0.001021119699794365]\n",
       "3           pdays   [0.03087566188805968]\n",
       "4        previous  [0.012407471459780176]\n",
       "5    emp_var_rate   [0.04471264255923449]\n",
       "6  cons_price_idx  [0.013132086180079092]\n",
       "7   cons_conf_idx  [0.011127856029028993]\n",
       "8       euribor3m   [0.05503166762654602]\n",
       "9     nr_employed     [0.045187292168957]"
      ]
     },
     "execution_count": 247,
     "metadata": {},
     "output_type": "execute_result"
    }
   ],
   "source": [
    "Mutual_Info_df.head(10)"
   ]
  },
  {
   "cell_type": "code",
   "execution_count": 248,
   "id": "f97ced7a",
   "metadata": {},
   "outputs": [
    {
     "data": {
      "text/html": [
       "<div>\n",
       "<style scoped>\n",
       "    .dataframe tbody tr th:only-of-type {\n",
       "        vertical-align: middle;\n",
       "    }\n",
       "\n",
       "    .dataframe tbody tr th {\n",
       "        vertical-align: top;\n",
       "    }\n",
       "\n",
       "    .dataframe thead th {\n",
       "        text-align: right;\n",
       "    }\n",
       "</style>\n",
       "<table border=\"1\" class=\"dataframe\">\n",
       "  <thead>\n",
       "    <tr style=\"text-align: right;\">\n",
       "      <th></th>\n",
       "      <th>Feature</th>\n",
       "      <th>Mutual_Info</th>\n",
       "    </tr>\n",
       "  </thead>\n",
       "  <tbody>\n",
       "    <tr>\n",
       "      <th>2</th>\n",
       "      <td>campaign</td>\n",
       "      <td>0.001021</td>\n",
       "    </tr>\n",
       "    <tr>\n",
       "      <th>7</th>\n",
       "      <td>cons_conf_idx</td>\n",
       "      <td>0.011128</td>\n",
       "    </tr>\n",
       "    <tr>\n",
       "      <th>0</th>\n",
       "      <td>age</td>\n",
       "      <td>0.011916</td>\n",
       "    </tr>\n",
       "    <tr>\n",
       "      <th>4</th>\n",
       "      <td>previous</td>\n",
       "      <td>0.012407</td>\n",
       "    </tr>\n",
       "    <tr>\n",
       "      <th>6</th>\n",
       "      <td>cons_price_idx</td>\n",
       "      <td>0.013132</td>\n",
       "    </tr>\n",
       "    <tr>\n",
       "      <th>1</th>\n",
       "      <td>duration</td>\n",
       "      <td>0.016234</td>\n",
       "    </tr>\n",
       "    <tr>\n",
       "      <th>3</th>\n",
       "      <td>pdays</td>\n",
       "      <td>0.030876</td>\n",
       "    </tr>\n",
       "    <tr>\n",
       "      <th>5</th>\n",
       "      <td>emp_var_rate</td>\n",
       "      <td>0.044713</td>\n",
       "    </tr>\n",
       "    <tr>\n",
       "      <th>9</th>\n",
       "      <td>nr_employed</td>\n",
       "      <td>0.045187</td>\n",
       "    </tr>\n",
       "    <tr>\n",
       "      <th>8</th>\n",
       "      <td>euribor3m</td>\n",
       "      <td>0.055032</td>\n",
       "    </tr>\n",
       "  </tbody>\n",
       "</table>\n",
       "</div>"
      ],
      "text/plain": [
       "          Feature  Mutual_Info\n",
       "2        campaign     0.001021\n",
       "7   cons_conf_idx     0.011128\n",
       "0             age     0.011916\n",
       "4        previous     0.012407\n",
       "6  cons_price_idx     0.013132\n",
       "1        duration     0.016234\n",
       "3           pdays     0.030876\n",
       "5    emp_var_rate     0.044713\n",
       "9     nr_employed     0.045187\n",
       "8       euribor3m     0.055032"
      ]
     },
     "execution_count": 248,
     "metadata": {},
     "output_type": "execute_result"
    }
   ],
   "source": [
    "Mutual_Info_df['Mutual_Info'] =Mutual_Info_df['Mutual_Info'].astype(float)\n",
    "Mutual_Info_df.sort_values(by=['Mutual_Info'], ascending=True)"
   ]
  },
  {
   "cell_type": "code",
   "execution_count": null,
   "id": "5ee6c6eb",
   "metadata": {},
   "outputs": [],
   "source": []
  },
  {
   "cell_type": "code",
   "execution_count": 2,
   "id": "ab31fb43",
   "metadata": {},
   "outputs": [
    {
     "ename": "NameError",
     "evalue": "name 'df_fillna' is not defined",
     "output_type": "error",
     "traceback": [
      "\u001b[0;31m---------------------------------------------------------------------------\u001b[0m",
      "\u001b[0;31mNameError\u001b[0m                                 Traceback (most recent call last)",
      "\u001b[0;32m/var/folders/d1/hj61c16j11qc7w88b5dtvy7m0000gn/T/ipykernel_21070/3533590994.py\u001b[0m in \u001b[0;36m<module>\u001b[0;34m\u001b[0m\n\u001b[1;32m      2\u001b[0m \u001b[0;34m\u001b[0m\u001b[0m\n\u001b[1;32m      3\u001b[0m \u001b[0;34m\u001b[0m\u001b[0m\n\u001b[0;32m----> 4\u001b[0;31m \u001b[0msubscription_no\u001b[0m \u001b[0;34m=\u001b[0m \u001b[0mdf_fillna\u001b[0m\u001b[0;34m[\u001b[0m\u001b[0mdf_fillna\u001b[0m\u001b[0;34m.\u001b[0m\u001b[0msubscription\u001b[0m \u001b[0;34m==\u001b[0m \u001b[0;34m'no'\u001b[0m\u001b[0;34m]\u001b[0m\u001b[0;34m\u001b[0m\u001b[0;34m\u001b[0m\u001b[0m\n\u001b[0m\u001b[1;32m      5\u001b[0m \u001b[0msubscription_yes\u001b[0m \u001b[0;34m=\u001b[0m \u001b[0mdf_fillna\u001b[0m\u001b[0;34m[\u001b[0m\u001b[0mdf_fillna\u001b[0m\u001b[0;34m.\u001b[0m\u001b[0msubscription\u001b[0m \u001b[0;34m==\u001b[0m \u001b[0;34m'yes'\u001b[0m\u001b[0;34m]\u001b[0m\u001b[0;34m\u001b[0m\u001b[0;34m\u001b[0m\u001b[0m\n\u001b[1;32m      6\u001b[0m \u001b[0;34m\u001b[0m\u001b[0m\n",
      "\u001b[0;31mNameError\u001b[0m: name 'df_fillna' is not defined"
     ]
    }
   ],
   "source": [
    "import matplotlib.pyplot as plt\n",
    "\n",
    "\n",
    "subscription_no = df_fillna[df_fillna.subscription == 'no']\n",
    "subscription_yes = df_fillna[df_fillna.subscription == 'yes']\n",
    "\n",
    "\n",
    "subscription_no.hist(column = 'age', bins = 10, color = 'teal', \\\n",
    "           alpha = 0.5)\n",
    "subscription_yes.hist(column = 'age', bins = 10, color = 'blue', \\\n",
    "            alpha = 0.5)\n",
    "plt.hist([subscription_no.hist(column = 'age', bins = 10, color = 'teal', \\\n",
    "           alpha = 0.5), subscription_yes.hist(column = 'age', bins = 10, color = 'blue', \\\n",
    "            alpha = 0.5)])\n",
    "plt.show()"
   ]
  },
  {
   "cell_type": "code",
   "execution_count": 62,
   "id": "721f3d84",
   "metadata": {},
   "outputs": [
    {
     "data": {
      "text/plain": [
       "<Figure size 2160x432 with 0 Axes>"
      ]
     },
     "metadata": {},
     "output_type": "display_data"
    }
   ],
   "source": [
    "import matplotlib.pyplot as plt\n",
    "import seaborn as sb\n",
    "fig=plt.gcf()\n",
    "fig.set_size_inches(30,6)\n",
    "#plt.subplot(1,2,1)\n",
    "#sb.countplot('marital',hue='subscription',data=df_fillna)"
   ]
  },
  {
   "cell_type": "code",
   "execution_count": 65,
   "id": "11f36a08",
   "metadata": {},
   "outputs": [
    {
     "data": {
      "text/plain": [
       "<AxesSubplot:xlabel='campaign', ylabel='Count'>"
      ]
     },
     "execution_count": 65,
     "metadata": {},
     "output_type": "execute_result"
    },
    {
     "data": {
      "image/png": "[encoded data removed]",
      "text/plain": [
       "<Figure size 720x432 with 1 Axes>"
      ]
     },
     "metadata": {
      "needs_background": "light"
     },
     "output_type": "display_data"
    }
   ],
   "source": [
    "fig=plt.gcf()\n",
    "fig.set_size_inches(10,6)\n",
    "sb.histplot(data=df_fillna, x=\"campaign\", binwidth=10,multiple=\"dodge\",hue='subscription',shrink=0.8)"
   ]
  },
  {
   "cell_type": "code",
   "execution_count": 59,
   "id": "caffc5b8",
   "metadata": {},
   "outputs": [
    {
     "data": {
      "text/plain": [
       "<AxesSubplot:xlabel='cons.conf.idx', ylabel='Count'>"
      ]
     },
     "execution_count": 59,
     "metadata": {},
     "output_type": "execute_result"
    },
    {
     "data": {
      "image/png": "[encoded data removed]",
      "text/plain": [
       "<Figure size 432x288 with 1 Axes>"
      ]
     },
     "metadata": {
      "needs_background": "light"
     },
     "output_type": "display_data"
    }
   ],
   "source": [
    "sb.histplot(data=df_fillna, x=\"cons.conf.idx\", binwidth=10,multiple=\"dodge\",hue='subscription',shrink=0.8)"
   ]
  },
  {
   "cell_type": "code",
   "execution_count": 92,
   "id": "f3848248",
   "metadata": {},
   "outputs": [
    {
     "data": {
      "text/plain": [
       "<AxesSubplot:xlabel='age', ylabel='Count'>"
      ]
     },
     "execution_count": 92,
     "metadata": {},
     "output_type": "execute_result"
    },
    {
     "data": {
      "image/png": "[encoded data removed]",
      "text/plain": [
       "<Figure size 1080x432 with 1 Axes>"
      ]
     },
     "metadata": {
      "needs_background": "light"
     },
     "output_type": "display_data"
    }
   ],
   "source": [
    "fig=plt.gcf()\n",
    "fig.set_size_inches(15,6)\n",
    "sb.histplot(data=df_fillna, x=\"age\", binwidth=10,multiple=\"dodge\",hue='subscription',shrink=0.8)"
   ]
  },
  {
   "cell_type": "code",
   "execution_count": 75,
   "id": "ba9632f0",
   "metadata": {},
   "outputs": [
    {
     "data": {
      "text/plain": [
       "<AxesSubplot:xlabel='emp.var.rate', ylabel='Count'>"
      ]
     },
     "execution_count": 75,
     "metadata": {},
     "output_type": "execute_result"
    },
    {
     "data": {
      "image/png": "[encoded data removed]",
      "text/plain": [
       "<Figure size 432x288 with 1 Axes>"
      ]
     },
     "metadata": {
      "needs_background": "light"
     },
     "output_type": "display_data"
    }
   ],
   "source": [
    "sb.histplot(data=df_fillna, x=\"emp.var.rate\", binwidth=2,multiple=\"dodge\",hue='subscription',shrink=0.8)"
   ]
  },
  {
   "cell_type": "code",
   "execution_count": 76,
   "id": "d6a5b49a",
   "metadata": {},
   "outputs": [
    {
     "data": {
      "text/plain": [
       "<AxesSubplot:xlabel='nr.employed', ylabel='Count'>"
      ]
     },
     "execution_count": 76,
     "metadata": {},
     "output_type": "execute_result"
    },
    {
     "data": {
      "image/png": "[encoded data removed]",
      "text/plain": [
       "<Figure size 432x288 with 1 Axes>"
      ]
     },
     "metadata": {
      "needs_background": "light"
     },
     "output_type": "display_data"
    }
   ],
   "source": [
    "sb.histplot(data=df_fillna, x=\"nr.employed\", binwidth=40,multiple=\"dodge\",hue='subscription',shrink=0.8)"
   ]
  },
  {
   "cell_type": "code",
   "execution_count": 71,
   "id": "f4bc4140",
   "metadata": {},
   "outputs": [
    {
     "data": {
      "text/plain": [
       "<AxesSubplot:xlabel='euribor3m', ylabel='Count'>"
      ]
     },
     "execution_count": 71,
     "metadata": {},
     "output_type": "execute_result"
    },
    {
     "data": {
      "image/png": "[encoded data removed]",
      "text/plain": [
       "<Figure size 432x288 with 1 Axes>"
      ]
     },
     "metadata": {
      "needs_background": "light"
     },
     "output_type": "display_data"
    }
   ],
   "source": [
    "sb.histplot(data=df_fillna, x=\"euribor3m\", binwidth=2,multiple=\"dodge\",hue='subscription',shrink=0.8)"
   ]
  },
  {
   "cell_type": "code",
   "execution_count": 78,
   "id": "217985dd",
   "metadata": {},
   "outputs": [
    {
     "data": {
      "text/plain": [
       "<AxesSubplot:xlabel='loan', ylabel='Count'>"
      ]
     },
     "execution_count": 78,
     "metadata": {},
     "output_type": "execute_result"
    },
    {
     "data": {
      "image/png": "[encoded data removed]",
      "text/plain": [
       "<Figure size 432x288 with 1 Axes>"
      ]
     },
     "metadata": {
      "needs_background": "light"
     },
     "output_type": "display_data"
    }
   ],
   "source": [
    "sb.histplot(data=df_fillna, x=\"loan\", binwidth=2,multiple=\"stack\",hue='subscription',shrink=0.8)"
   ]
  },
  {
   "cell_type": "code",
   "execution_count": 79,
   "id": "fa4f318b",
   "metadata": {},
   "outputs": [
    {
     "data": {
      "text/plain": [
       "<AxesSubplot:xlabel='housing', ylabel='Count'>"
      ]
     },
     "execution_count": 79,
     "metadata": {},
     "output_type": "execute_result"
    },
    {
     "data": {
      "image/png": "[encoded data removed]",
      "text/plain": [
       "<Figure size 432x288 with 1 Axes>"
      ]
     },
     "metadata": {
      "needs_background": "light"
     },
     "output_type": "display_data"
    }
   ],
   "source": [
    "sb.histplot(data=df_fillna, x=\"housing\", binwidth=2,multiple=\"stack\",hue='subscription',shrink=0.8)"
   ]
  },
  {
   "cell_type": "code",
   "execution_count": 81,
   "id": "3dfe2c13",
   "metadata": {},
   "outputs": [
    {
     "data": {
      "text/plain": [
       "<AxesSubplot:xlabel='day_of_week', ylabel='Count'>"
      ]
     },
     "execution_count": 81,
     "metadata": {},
     "output_type": "execute_result"
    },
    {
     "data": {
      "image/png": "[encoded data removed]",
      "text/plain": [
       "<Figure size 432x288 with 1 Axes>"
      ]
     },
     "metadata": {
      "needs_background": "light"
     },
     "output_type": "display_data"
    }
   ],
   "source": [
    "sb.histplot(data=df_fillna, x=\"day_of_week\", binwidth=2,multiple=\"stack\",hue='subscription',shrink=0.8)"
   ]
  },
  {
   "cell_type": "code",
   "execution_count": 83,
   "id": "038703ec",
   "metadata": {},
   "outputs": [
    {
     "data": {
      "text/plain": [
       "<AxesSubplot:xlabel='job', ylabel='Count'>"
      ]
     },
     "execution_count": 83,
     "metadata": {},
     "output_type": "execute_result"
    },
    {
     "data": {
      "image/png": "[encoded data removed]",
      "text/plain": [
       "<Figure size 1440x432 with 1 Axes>"
      ]
     },
     "metadata": {
      "needs_background": "light"
     },
     "output_type": "display_data"
    }
   ],
   "source": [
    "fig=plt.gcf()\n",
    "fig.set_size_inches(20,6)\n",
    "sb.histplot(data=df_fillna, x=\"job\", binwidth=2,multiple=\"stack\",hue='subscription',shrink=0.8)"
   ]
  },
  {
   "cell_type": "code",
   "execution_count": 85,
   "id": "fbb4d9cb",
   "metadata": {},
   "outputs": [
    {
     "data": {
      "text/plain": [
       "<AxesSubplot:xlabel='month', ylabel='Count'>"
      ]
     },
     "execution_count": 85,
     "metadata": {},
     "output_type": "execute_result"
    },
    {
     "data": {
      "image/png": "[encoded data removed]",
      "text/plain": [
       "<Figure size 1080x432 with 1 Axes>"
      ]
     },
     "metadata": {
      "needs_background": "light"
     },
     "output_type": "display_data"
    }
   ],
   "source": [
    "fig=plt.gcf()\n",
    "fig.set_size_inches(15,6)\n",
    "sb.histplot(data=df_fillna, x=\"month\", binwidth=2,multiple=\"stack\",hue='subscription',shrink=0.8)"
   ]
  },
  {
   "cell_type": "code",
   "execution_count": 90,
   "id": "51f27eb4",
   "metadata": {},
   "outputs": [
    {
     "data": {
      "text/plain": [
       "<AxesSubplot:xlabel='poutcome', ylabel='Count'>"
      ]
     },
     "execution_count": 90,
     "metadata": {},
     "output_type": "execute_result"
    },
    {
     "data": {
      "image/png": "[encoded data removed]",
      "text/plain": [
       "<Figure size 432x288 with 1 Axes>"
      ]
     },
     "metadata": {
      "needs_background": "light"
     },
     "output_type": "display_data"
    }
   ],
   "source": [
    "sb.histplot(data=df_fillna, x=\"poutcome\", binwidth=2,multiple=\"stack\",hue='subscription',shrink=0.8)"
   ]
  },
  {
   "cell_type": "code",
   "execution_count": 116,
   "id": "e7d9cec7",
   "metadata": {},
   "outputs": [
    {
     "name": "stdout",
     "output_type": "stream",
     "text": [
      "attribute    original max  original min  normalized max  normalized min\n",
      "duration          4918          0             1.0          0.0\n",
      "campaign          56            1             1.0          0.0\n",
      "previous          7             0             1.0          0.0\n",
      "emp_var_rate      1.4          -3.4           1.0          0.0\n",
      "pdays             999.0         0.0           1.0          0.0\n",
      "cons_price_idx    94.767        92.201          1.0          0.0\n",
      "cons_conf_idx     -26.9         -50.8           1.0          0.0\n",
      "age               98            17             1.0          0.0\n",
      "euribor3m         5.045         0.634           1.0          0.0\n",
      "nr.employed       5228.1        4963.6           1.0          0.0\n"
     ]
    }
   ],
   "source": [
    "from sklearn.preprocessing import LabelBinarizer as lb\n",
    "\n",
    "def min_max_scaled(df_min_max_scaled,column):\n",
    "  df_min_max_scaled[column] = (df_min_max_scaled[column] - df_min_max_scaled[column].min()) / (df_min_max_scaled[column].max() - df_min_max_scaled[column].min())    \n",
    "\n",
    "for col in df_fillna.columns:\n",
    "  if df_fillna[col].dtype in ('int64','float64'):\n",
    "      min_max_scaled(df_fillna,col)\n",
    "\n",
    "##df_min_max_scaled -- new copy lo data update chesa, vaddu ante 'df_min_max_scaled' -> 'df' tho replace chesey\n",
    "df_fillna.head(10)\n",
    "print(\"attribute    original max  original min  normalized max  normalized min\")\n",
    "print(\"duration         \",df_copy.duration.max(),\"        \",df_copy.duration.min(),\"           \",df_fillna.duration.max(),\"        \",df_fillna.duration.min())\n",
    "print(\"campaign         \",df_copy.campaign.max(),\"          \",df_copy.campaign.min(),\"           \",df_fillna.campaign.max(),\"        \",df_fillna.campaign.min())\n",
    "print(\"previous         \",df_copy.previous.max(),\"           \",df_copy.previous.min(),\"           \",df_fillna.previous.max(),\"        \",df_fillna.previous.min())\n",
    "print(\"emp_var_rate     \",df_copy['emp.var.rate'].max(),\"        \",df_copy['emp.var.rate'].min(),\"         \",df_fillna['emp.var.rate'].max(),\"        \",df_fillna['emp.var.rate'].min())\n",
    "print(\"pdays            \",df_copy.pdays.max(),\"       \",df_copy.pdays.min(),\"         \",df_fillna.pdays.max(),\"        \",df_fillna.pdays.min())\n",
    "print(\"cons_price_idx   \",df_copy['cons.price.idx'].max(),\"      \",df_copy['cons.price.idx'].min(),\"        \",df_fillna['cons.price.idx'].max(),\"        \",df_fillna['cons.price.idx'].min())\n",
    "print(\"cons_conf_idx    \",df_copy['cons.conf.idx'].max(),\"       \",df_copy['cons.conf.idx'].min(),\"         \",df_fillna['cons.conf.idx'].max(),\"        \",df_fillna['cons.conf.idx'].min())\n",
    "print(\"age              \",df_copy.age.max(),\"          \",df_copy.age.min(),\"           \",df_fillna.age.max(),\"        \",df_fillna.age.min())\n",
    "print(\"euribor3m        \",df_copy.euribor3m.max(),\"       \",df_copy.euribor3m.min(),\"         \",df_fillna.euribor3m.max(),\"        \",df_fillna.euribor3m.min())\n",
    "print(\"nr.employed      \",df_copy['nr.employed'].max(),\"      \",df_copy['nr.employed'].min(),\"         \",df_fillna['nr.employed'].max(),\"        \",df_fillna['nr.employed'].min())"
   ]
  },
  {
   "cell_type": "code",
   "execution_count": 118,
   "id": "a270b7a0",
   "metadata": {},
   "outputs": [
    {
     "name": "stdout",
     "output_type": "stream",
     "text": [
      "job_admin. 10119\n",
      "job_blue-collar 8980\n",
      "job_entrepreneur 1423\n",
      "job_housemaid 1025\n",
      "job_management 2837\n",
      "job_retired 1668\n",
      "job_self-employed 1380\n",
      "job_services 3857\n",
      "job_student 855\n",
      "job_technician 6560\n",
      "job_unemployed 981\n",
      "job_unknown 315\n",
      "marital_divorced 4482\n",
      "marital_married 24214\n",
      "marital_single 11225\n",
      "marital_unknown 79\n",
      "education_basic.4y 4058\n",
      "education_basic.6y 2235\n",
      "education_basic.9y 5877\n",
      "education_high.school 9222\n",
      "education_illiterate 18\n",
      "education_professional.course 5091\n",
      "education_university.degree 11819\n",
      "education_unknown 1680\n",
      "default_no 31653\n",
      "default_unknown 8344\n",
      "default_yes 3\n",
      "housing_no 18080\n",
      "housing_unknown 960\n",
      "housing_yes 20960\n",
      "loan_no 32970\n",
      "loan_unknown 960\n",
      "loan_yes 6070\n",
      "contact_cellular 25377\n",
      "contact_telephone 14623\n",
      "month_apr 2570\n",
      "month_aug 6000\n",
      "month_dec 180\n",
      "month_jul 6956\n",
      "month_jun 5172\n",
      "month_mar 533\n",
      "month_may 13384\n",
      "month_nov 3955\n",
      "month_oct 696\n",
      "month_sep 554\n",
      "day_of_week_fri 7617\n",
      "day_of_week_mon 8285\n",
      "day_of_week_thu 8350\n",
      "day_of_week_tue 7871\n",
      "day_of_week_wed 7877\n",
      "poutcome_failure 4147\n",
      "poutcome_nonexistent 34527\n",
      "poutcome_success 1326\n",
      "subscription_no 35494\n",
      "subscription_yes 4506\n"
     ]
    }
   ],
   "source": [
    "for col in df_copy:\n",
    "  if df_copy[col].dtype=='object': \n",
    "    y = pd.get_dummies(df_copy[col], prefix=col)\n",
    "    for i in y.columns:\n",
    "      # print(i)\n",
    "      index = pd.Index(y[i])\n",
    "      # print(index.value_counts())\n",
    "      print(i,index.value_counts()[1])"
   ]
  },
  {
   "cell_type": "code",
   "execution_count": 124,
   "id": "7c09c0c9",
   "metadata": {},
   "outputs": [
    {
     "ename": "UFuncTypeError",
     "evalue": "ufunc 'add' did not contain a loop with signature matching types (dtype('<U32'), dtype('<U32')) -> dtype('<U32')",
     "output_type": "error",
     "traceback": [
      "\u001b[0;31m---------------------------------------------------------------------------\u001b[0m",
      "\u001b[0;31mUFuncTypeError\u001b[0m                            Traceback (most recent call last)",
      "\u001b[0;32m/var/folders/d1/hj61c16j11qc7w88b5dtvy7m0000gn/T/ipykernel_21075/148538432.py\u001b[0m in \u001b[0;36m<module>\u001b[0;34m\u001b[0m\n\u001b[1;32m      1\u001b[0m \u001b[0;32mfrom\u001b[0m \u001b[0mscipy\u001b[0m\u001b[0;34m.\u001b[0m\u001b[0mstats\u001b[0m \u001b[0;32mimport\u001b[0m \u001b[0mpearsonr\u001b[0m\u001b[0;34m\u001b[0m\u001b[0;34m\u001b[0m\u001b[0m\n\u001b[0;32m----> 2\u001b[0;31m \u001b[0mcorre\u001b[0m\u001b[0;34m,\u001b[0m\u001b[0m_\u001b[0m\u001b[0;34m=\u001b[0m\u001b[0mpearsonr\u001b[0m\u001b[0;34m(\u001b[0m\u001b[0mdf_copy\u001b[0m\u001b[0;34m[\u001b[0m\u001b[0;34m'age'\u001b[0m\u001b[0;34m]\u001b[0m\u001b[0;34m,\u001b[0m\u001b[0mdf_copy\u001b[0m\u001b[0;34m[\u001b[0m\u001b[0;34m'marital'\u001b[0m\u001b[0;34m]\u001b[0m\u001b[0;34m)\u001b[0m\u001b[0;34m\u001b[0m\u001b[0;34m\u001b[0m\u001b[0m\n\u001b[0m\u001b[1;32m      3\u001b[0m \u001b[0mprint\u001b[0m\u001b[0;34m(\u001b[0m\u001b[0mcorre\u001b[0m\u001b[0;34m)\u001b[0m\u001b[0;34m\u001b[0m\u001b[0;34m\u001b[0m\u001b[0m\n",
      "\u001b[0;32m~/miniconda3/lib/python3.9/site-packages/scipy/stats/stats.py\u001b[0m in \u001b[0;36mpearsonr\u001b[0;34m(x, y)\u001b[0m\n\u001b[1;32m   4027\u001b[0m     \u001b[0;31m# that the data type is at least 64 bit floating point.  It might have\u001b[0m\u001b[0;34m\u001b[0m\u001b[0;34m\u001b[0m\u001b[0;34m\u001b[0m\u001b[0m\n\u001b[1;32m   4028\u001b[0m     \u001b[0;31m# more precision if the input is, for example, np.longdouble.\u001b[0m\u001b[0;34m\u001b[0m\u001b[0;34m\u001b[0m\u001b[0;34m\u001b[0m\u001b[0m\n\u001b[0;32m-> 4029\u001b[0;31m     \u001b[0mdtype\u001b[0m \u001b[0;34m=\u001b[0m \u001b[0mtype\u001b[0m\u001b[0;34m(\u001b[0m\u001b[0;36m1.0\u001b[0m \u001b[0;34m+\u001b[0m \u001b[0mx\u001b[0m\u001b[0;34m[\u001b[0m\u001b[0;36m0\u001b[0m\u001b[0;34m]\u001b[0m \u001b[0;34m+\u001b[0m \u001b[0my\u001b[0m\u001b[0;34m[\u001b[0m\u001b[0;36m0\u001b[0m\u001b[0;34m]\u001b[0m\u001b[0;34m)\u001b[0m\u001b[0;34m\u001b[0m\u001b[0;34m\u001b[0m\u001b[0m\n\u001b[0m\u001b[1;32m   4030\u001b[0m \u001b[0;34m\u001b[0m\u001b[0m\n\u001b[1;32m   4031\u001b[0m     \u001b[0;32mif\u001b[0m \u001b[0mn\u001b[0m \u001b[0;34m==\u001b[0m \u001b[0;36m2\u001b[0m\u001b[0;34m:\u001b[0m\u001b[0;34m\u001b[0m\u001b[0;34m\u001b[0m\u001b[0m\n",
      "\u001b[0;31mUFuncTypeError\u001b[0m: ufunc 'add' did not contain a loop with signature matching types (dtype('<U32'), dtype('<U32')) -> dtype('<U32')"
     ]
    }
   ],
   "source": [
    "from scipy.stats import pearsonr\n",
    "corre,_=pearsonr(df_copy['age'],df_copy['marital'])\n",
    "print(corre)"
   ]
  },
  {
   "cell_type": "code",
   "execution_count": null,
   "id": "b17c5d9d",
   "metadata": {},
   "outputs": [],
   "source": []
  }
 ],
 "metadata": {
  "kernelspec": {
   "display_name": "Python 3 (ipykernel)",
   "language": "python",
   "name": "python3"
  },
  "language_info": {
   "codemirror_mode": {
    "name": "ipython",
    "version": 3
   },
   "file_extension": ".py",
   "mimetype": "text/x-python",
   "name": "python",
   "nbconvert_exporter": "python",
   "pygments_lexer": "ipython3",
   "version": "3.9.5"
  }
 },
 "nbformat": 4,
 "nbformat_minor": 5
}
